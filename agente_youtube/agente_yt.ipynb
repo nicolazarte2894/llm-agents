{
 "cells": [
  {
   "cell_type": "markdown",
   "metadata": {},
   "source": [
    "# Prueba Proyecto Agente YouTube Transcript"
   ]
  },
  {
   "cell_type": "code",
   "execution_count": 1,
   "metadata": {},
   "outputs": [],
   "source": [
    "from langchain_community.document_loaders import YoutubeLoader\n",
    "from langchain_community.agent_toolkits import load_tools\n",
    "from langchain_core.messages import HumanMessage\n",
    "import os\n",
    "from dotenv import load_dotenv\n",
    "\n",
    "# Variables de entorno\n",
    "load_dotenv()\n",
    "OPENROUTER_API_KEY = os.getenv('OPENROUTER_API_KEY')"
   ]
  },
  {
   "cell_type": "code",
   "execution_count": 2,
   "metadata": {},
   "outputs": [],
   "source": [
    "from langchain_community.chat_models import ChatOpenAI\n",
    "#from langchain_openai import ChatOpenAI\n",
    "from typing import Optional\n",
    "from pydantic import BaseModel\n",
    "\n",
    "\n",
    "class ChatOpenRouter(ChatOpenAI):\n",
    "    openai_api_base: str\n",
    "    openai_api_key: Optional[str]\n",
    "    model_name: str\n",
    "\n",
    "    def __init__(self,\n",
    "                 model_name: str,\n",
    "                 openai_api_key: Optional[str] = None,\n",
    "                 openai_api_base: str = \"https://openrouter.ai/api/v1\",\n",
    "                 **kwargs):\n",
    "        openai_api_key = openai_api_key or os.getenv('OPENROUTER_API_KEY')\n",
    "        super().__init__(openai_api_base=openai_api_base,\n",
    "                         openai_api_key=openai_api_key,\n",
    "                         model_name=model_name, **kwargs)"
   ]
  },
  {
   "cell_type": "code",
   "execution_count": 3,
   "metadata": {},
   "outputs": [],
   "source": [
    "# Obtener transcripción\n",
    "loader = YoutubeLoader.from_youtube_url('https://www.youtube.com/watch?v=nSeQl6Ehfk0&list=PL-Y17yukoyy3zzoMJNkWQuogKbWGyBL-d&index=15',\n",
    "    add_video_info=True,\n",
    "    language=[\"en\", \"es\"])#,\n",
    "    #translation=\"es\")\n",
    "transcript = loader.load()"
   ]
  },
  {
   "cell_type": "code",
   "execution_count": null,
   "metadata": {},
   "outputs": [],
   "source": [
    "load_tools.get_all_tool_names()"
   ]
  },
  {
   "cell_type": "code",
   "execution_count": 4,
   "metadata": {},
   "outputs": [
    {
     "name": "stdout",
     "output_type": "stream",
     "text": [
      "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\n"
     ]
    }
   ],
   "source": [
    "print(OPENROUTER_API_KEY)"
   ]
  },
  {
   "cell_type": "code",
   "execution_count": 7,
   "metadata": {},
   "outputs": [
    {
     "data": {
      "text/plain": [
       "AIMessage(content='\\n\\n¡Hola Nico! 😊 ¿Cómo puedo ayudarte hoy?\\n', response_metadata={'token_usage': {'completion_tokens': 15, 'prompt_tokens': 11, 'total_tokens': 26}, 'model_name': 'google/gemma-2-9b-it:free', 'system_fingerprint': None, 'finish_reason': 'stop', 'logprobs': None}, id='run-9dde27e5-09a8-4ef0-9c59-286834c4be18-0')"
      ]
     },
     "execution_count": 7,
     "metadata": {},
     "output_type": "execute_result"
    }
   ],
   "source": [
    "model = \"google/gemma-2-9b-it:free\"\n",
    "\n",
    "llm = ChatOpenRouter(\n",
    "    model_name=model,\n",
    "    openai_api_key=OPENROUTER_API_KEY\n",
    ")\n",
    "llm.invoke([HumanMessage(content=\"Hola soy Nico\")])"
   ]
  }
 ],
 "metadata": {
  "kernelspec": {
   "display_name": "llm_env",
   "language": "python",
   "name": "python3"
  },
  "language_info": {
   "codemirror_mode": {
    "name": "ipython",
    "version": 3
   },
   "file_extension": ".py",
   "mimetype": "text/x-python",
   "name": "python",
   "nbconvert_exporter": "python",
   "pygments_lexer": "ipython3",
   "version": "3.11.9"
  }
 },
 "nbformat": 4,
 "nbformat_minor": 2
}
